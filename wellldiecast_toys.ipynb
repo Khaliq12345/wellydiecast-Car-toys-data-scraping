{
 "cells": [
  {
   "cell_type": "code",
   "execution_count": 2,
   "metadata": {},
   "outputs": [],
   "source": [
    "#importing the librabries\n",
    "from bs4 import BeautifulSoup\n",
    "import pandas as pd\n",
    "import aiohttp\n",
    "import asyncio"
   ]
  },
  {
   "cell_type": "code",
   "execution_count": 3,
   "metadata": {},
   "outputs": [],
   "source": [
    "# setting the base url and the list to store the scraped data\n",
    "base_url = 'https://www.wellydiecast.com/'\n",
    "\n",
    "item = []\n",
    "item_no = []\n",
    "item_scale = []\n",
    "item_image = []"
   ]
  },
  {
   "cell_type": "code",
   "execution_count": null,
   "metadata": {},
   "outputs": [],
   "source": [
    "#setting the inputs\n",
    "start = int(input(f'From page: '))\n",
    "end = int(input(f'To page: ' ))\n",
    "urls = []"
   ]
  },
  {
   "cell_type": "code",
   "execution_count": null,
   "metadata": {},
   "outputs": [],
   "source": [
    "for x in range(start, end):\n",
    "    url = f'https://www.wellydiecast.com/product.php?&keyword=&type=&scale=&mode=search&page={x}'\n",
    "    urls.append(url)\n",
    "\n",
    "\n",
    "print(urls)"
   ]
  },
  {
   "cell_type": "code",
   "execution_count": 4,
   "metadata": {},
   "outputs": [],
   "source": [
    "# This function will parse and extarct the data from the website\n",
    "async def scrape(soup):\n",
    "    container = soup.find('div', {'class':'product_list_container'})\n",
    "\n",
    "    for i in range(16):\n",
    "        try:\n",
    "            name = container.find_all('div',{'class':'name'})\n",
    "            item.append(name[i].text)\n",
    "        except:\n",
    "            item.append('')\n",
    "\n",
    "        try:\n",
    "            item_num = container.find_all('div',{'class':'item_no'})\n",
    "            item_no.append(item_num[i].text)\n",
    "        except:\n",
    "            item_no.append('')\n",
    "\n",
    "        try:\n",
    "            scale = container.find_all('div',{'class':'scale'})\n",
    "            item_scale.append(scale[i].text)\n",
    "        except:\n",
    "            item_scale.append('')\n",
    "\n",
    "        try:\n",
    "            image = container.find_all('img')\n",
    "            item_image.append(base_url + image[i]['src'])\n",
    "        except:\n",
    "            item_image.append('')"
   ]
  },
  {
   "cell_type": "code",
   "execution_count": null,
   "metadata": {},
   "outputs": [],
   "source": [
    "# This function will parse the html of the website\n",
    "async def get_data(session, url):\n",
    "    async with session.get(url) as r:\n",
    "        html = await r.text()\n",
    "        soup = BeautifulSoup(html, 'html5lib')\n",
    "        page = await scrape(soup)\n",
    "        return page"
   ]
  },
  {
   "cell_type": "code",
   "execution_count": null,
   "metadata": {},
   "outputs": [],
   "source": [
    "# This function will create the task\n",
    "async def get_all(session, urls):\n",
    "    tasks = []\n",
    "    for url in urls:\n",
    "        task = asyncio.create_task(get_data(session, url))\n",
    "        tasks.append(task)\n",
    "    result = await asyncio.gather(*tasks)\n",
    "    return result\n"
   ]
  },
  {
   "cell_type": "code",
   "execution_count": null,
   "metadata": {},
   "outputs": [],
   "source": [
    "# The function will create the Client session\n",
    "async def main(urls):\n",
    "    async with aiohttp.ClientSession() as session:\n",
    "        data = await get_all(session, urls)\n",
    "        return data"
   ]
  },
  {
   "cell_type": "code",
   "execution_count": null,
   "metadata": {},
   "outputs": [],
   "source": [
    "# This will launch the whole function\n",
    "if __name__ == '__main__':\n",
    "    asyncio.set_event_loop_policy(asyncio.WindowsSelectorEventLoopPolicy())\n",
    "    result = asyncio.run(main(urls))\n",
    "    print(result)"
   ]
  },
  {
   "cell_type": "code",
   "execution_count": null,
   "metadata": {},
   "outputs": [],
   "source": [
    "# Finally create a dataframe and save as a csv file.\n",
    "data = pd.DataFrame({\n",
    "    'Item name':item, \n",
    "    'Item Scale':item_scale,\n",
    "    'Item image':item_image,\n",
    "    'Item no':item_no\n",
    "})\n",
    "\n",
    "data.to_csv('wellydiecast_toys.csv')\n",
    "print(data)"
   ]
  },
  {
   "cell_type": "markdown",
   "metadata": {},
   "source": [
    "# Thank You!"
   ]
  }
 ],
 "metadata": {
  "kernelspec": {
   "display_name": "Python 3.10.0 ('kiber')",
   "language": "python",
   "name": "python3"
  },
  "language_info": {
   "codemirror_mode": {
    "name": "ipython",
    "version": 3
   },
   "file_extension": ".py",
   "mimetype": "text/x-python",
   "name": "python",
   "nbconvert_exporter": "python",
   "pygments_lexer": "ipython3",
   "version": "3.10.0"
  },
  "orig_nbformat": 4,
  "vscode": {
   "interpreter": {
    "hash": "fdb6fc7dd92a6cfcca3c68720bd737aecb050a4076f66a2a3431be09449648ae"
   }
  }
 },
 "nbformat": 4,
 "nbformat_minor": 2
}
